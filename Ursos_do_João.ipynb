{
 "cells": [
  {
   "cell_type": "code",
   "execution_count": 1,
   "id": "32d8706c",
   "metadata": {},
   "outputs": [],
   "source": [
    "#hide\n",
    "!pip install -Uqq fastbook\n",
    "import fastbook\n",
    "fastbook.setup_book()\n"
   ]
  },
  {
   "cell_type": "code",
   "execution_count": 2,
   "id": "b48afe1d",
   "metadata": {},
   "outputs": [],
   "source": [
    "#hide\n",
    "from fastbook import *\n",
    "from fastai.vision.widgets import *"
   ]
  },
  {
   "cell_type": "code",
   "execution_count": 3,
   "id": "bbaa675b",
   "metadata": {},
   "outputs": [
    {
     "name": "stdout",
     "output_type": "stream",
     "text": [
      "Requirement already satisfied: nbconvert==5.6.1 in /opt/conda/lib/python3.7/site-packages (5.6.1)\n",
      "Requirement already satisfied: mistune<2,>=0.8.1 in /opt/conda/lib/python3.7/site-packages (from nbconvert==5.6.1) (0.8.4)\n",
      "Requirement already satisfied: traitlets>=4.2 in /opt/conda/lib/python3.7/site-packages (from nbconvert==5.6.1) (5.1.0)\n",
      "Requirement already satisfied: entrypoints>=0.2.2 in /opt/conda/lib/python3.7/site-packages (from nbconvert==5.6.1) (0.3)\n",
      "Requirement already satisfied: testpath in /opt/conda/lib/python3.7/site-packages (from nbconvert==5.6.1) (0.5.0)\n",
      "Requirement already satisfied: jupyter-core in /opt/conda/lib/python3.7/site-packages (from nbconvert==5.6.1) (4.9.1)\n",
      "Requirement already satisfied: pandocfilters>=1.4.1 in /opt/conda/lib/python3.7/site-packages (from nbconvert==5.6.1) (1.5.0)\n",
      "Requirement already satisfied: jinja2>=2.4 in /opt/conda/lib/python3.7/site-packages (from nbconvert==5.6.1) (2.11.3)\n",
      "Requirement already satisfied: pygments in /opt/conda/lib/python3.7/site-packages (from nbconvert==5.6.1) (2.10.0)\n",
      "Requirement already satisfied: nbformat>=4.4 in /opt/conda/lib/python3.7/site-packages (from nbconvert==5.6.1) (5.1.3)\n",
      "Requirement already satisfied: defusedxml in /opt/conda/lib/python3.7/site-packages (from nbconvert==5.6.1) (0.7.1)\n",
      "Requirement already satisfied: bleach in /opt/conda/lib/python3.7/site-packages (from nbconvert==5.6.1) (4.1.0)\n",
      "Requirement already satisfied: MarkupSafe>=0.23 in /opt/conda/lib/python3.7/site-packages (from jinja2>=2.4->nbconvert==5.6.1) (2.0.1)\n",
      "Requirement already satisfied: jsonschema!=2.5.0,>=2.4 in /opt/conda/lib/python3.7/site-packages (from nbformat>=4.4->nbconvert==5.6.1) (3.2.0)\n",
      "Requirement already satisfied: ipython-genutils in /opt/conda/lib/python3.7/site-packages (from nbformat>=4.4->nbconvert==5.6.1) (0.2.0)\n",
      "Requirement already satisfied: setuptools in /opt/conda/lib/python3.7/site-packages (from jsonschema!=2.5.0,>=2.4->nbformat>=4.4->nbconvert==5.6.1) (58.0.4)\n",
      "Requirement already satisfied: importlib-metadata in /opt/conda/lib/python3.7/site-packages (from jsonschema!=2.5.0,>=2.4->nbformat>=4.4->nbconvert==5.6.1) (4.8.2)\n",
      "Requirement already satisfied: six>=1.11.0 in /opt/conda/lib/python3.7/site-packages (from jsonschema!=2.5.0,>=2.4->nbformat>=4.4->nbconvert==5.6.1) (1.16.0)\n",
      "Requirement already satisfied: pyrsistent>=0.14.0 in /opt/conda/lib/python3.7/site-packages (from jsonschema!=2.5.0,>=2.4->nbformat>=4.4->nbconvert==5.6.1) (0.18.0)\n",
      "Requirement already satisfied: attrs>=17.4.0 in /opt/conda/lib/python3.7/site-packages (from jsonschema!=2.5.0,>=2.4->nbformat>=4.4->nbconvert==5.6.1) (21.2.0)\n",
      "Requirement already satisfied: packaging in /opt/conda/lib/python3.7/site-packages (from bleach->nbconvert==5.6.1) (21.2)\n",
      "Requirement already satisfied: webencodings in /opt/conda/lib/python3.7/site-packages (from bleach->nbconvert==5.6.1) (0.5.1)\n",
      "Requirement already satisfied: zipp>=0.5 in /opt/conda/lib/python3.7/site-packages (from importlib-metadata->jsonschema!=2.5.0,>=2.4->nbformat>=4.4->nbconvert==5.6.1) (3.6.0)\n",
      "Requirement already satisfied: typing-extensions>=3.6.4 in /opt/conda/lib/python3.7/site-packages (from importlib-metadata->jsonschema!=2.5.0,>=2.4->nbformat>=4.4->nbconvert==5.6.1) (3.10.0.2)\n",
      "Requirement already satisfied: pyparsing<3,>=2.0.2 in /opt/conda/lib/python3.7/site-packages (from packaging->bleach->nbconvert==5.6.1) (2.4.7)\n",
      "Collecting voila==0.1.24\n",
      "  Downloading voila-0.1.24-py3-none-any.whl (5.9 MB)\n",
      "\u001b[K     |████████████████████████████████| 5.9 MB 13.1 MB/s eta 0:00:01\n",
      "\u001b[?25hRequirement already satisfied: pygments<3,>=2.4.1 in /opt/conda/lib/python3.7/site-packages (from voila==0.1.24) (2.10.0)\n",
      "Collecting jupyterlab-pygments<0.2,>=0.1.0\n",
      "  Downloading jupyterlab_pygments-0.1.2-py2.py3-none-any.whl (4.6 kB)\n",
      "Requirement already satisfied: nbconvert<6,>=5.5.0 in /opt/conda/lib/python3.7/site-packages (from voila==0.1.24) (5.6.1)\n",
      "Collecting jupyter-server<0.2.0,>=0.1.0\n",
      "  Downloading jupyter_server-0.1.1-py2.py3-none-any.whl (183 kB)\n",
      "\u001b[K     |████████████████████████████████| 183 kB 40.1 MB/s eta 0:00:01\n",
      "\u001b[?25hCollecting async-generator\n",
      "  Downloading async_generator-1.10-py3-none-any.whl (18 kB)\n",
      "Requirement already satisfied: traitlets>=4.2.1 in /opt/conda/lib/python3.7/site-packages (from jupyter-server<0.2.0,>=0.1.0->voila==0.1.24) (5.1.0)\n",
      "Requirement already satisfied: nbformat in /opt/conda/lib/python3.7/site-packages (from jupyter-server<0.2.0,>=0.1.0->voila==0.1.24) (5.1.3)\n",
      "Requirement already satisfied: ipykernel in /opt/conda/lib/python3.7/site-packages (from jupyter-server<0.2.0,>=0.1.0->voila==0.1.24) (6.5.0)\n",
      "Requirement already satisfied: pyzmq>=17 in /opt/conda/lib/python3.7/site-packages (from jupyter-server<0.2.0,>=0.1.0->voila==0.1.24) (22.3.0)\n",
      "Requirement already satisfied: jupyter-core>=4.4.0 in /opt/conda/lib/python3.7/site-packages (from jupyter-server<0.2.0,>=0.1.0->voila==0.1.24) (4.9.1)\n",
      "Requirement already satisfied: Send2Trash in /opt/conda/lib/python3.7/site-packages (from jupyter-server<0.2.0,>=0.1.0->voila==0.1.24) (1.8.0)\n",
      "Requirement already satisfied: terminado>=0.8.1 in /opt/conda/lib/python3.7/site-packages (from jupyter-server<0.2.0,>=0.1.0->voila==0.1.24) (0.12.1)\n",
      "Requirement already satisfied: tornado>=4 in /opt/conda/lib/python3.7/site-packages (from jupyter-server<0.2.0,>=0.1.0->voila==0.1.24) (6.1)\n",
      "Requirement already satisfied: prometheus-client in /opt/conda/lib/python3.7/site-packages (from jupyter-server<0.2.0,>=0.1.0->voila==0.1.24) (0.12.0)\n",
      "Requirement already satisfied: ipython-genutils in /opt/conda/lib/python3.7/site-packages (from jupyter-server<0.2.0,>=0.1.0->voila==0.1.24) (0.2.0)\n",
      "Requirement already satisfied: jupyter-client>=5.3.1 in /opt/conda/lib/python3.7/site-packages (from jupyter-server<0.2.0,>=0.1.0->voila==0.1.24) (6.1.12)\n",
      "Requirement already satisfied: jinja2 in /opt/conda/lib/python3.7/site-packages (from jupyter-server<0.2.0,>=0.1.0->voila==0.1.24) (2.11.3)\n",
      "Requirement already satisfied: python-dateutil>=2.1 in /opt/conda/lib/python3.7/site-packages (from jupyter-client>=5.3.1->jupyter-server<0.2.0,>=0.1.0->voila==0.1.24) (2.8.2)\n",
      "Requirement already satisfied: testpath in /opt/conda/lib/python3.7/site-packages (from nbconvert<6,>=5.5.0->voila==0.1.24) (0.5.0)\n",
      "Requirement already satisfied: defusedxml in /opt/conda/lib/python3.7/site-packages (from nbconvert<6,>=5.5.0->voila==0.1.24) (0.7.1)\n",
      "Requirement already satisfied: bleach in /opt/conda/lib/python3.7/site-packages (from nbconvert<6,>=5.5.0->voila==0.1.24) (4.1.0)\n",
      "Requirement already satisfied: pandocfilters>=1.4.1 in /opt/conda/lib/python3.7/site-packages (from nbconvert<6,>=5.5.0->voila==0.1.24) (1.5.0)\n",
      "Requirement already satisfied: mistune<2,>=0.8.1 in /opt/conda/lib/python3.7/site-packages (from nbconvert<6,>=5.5.0->voila==0.1.24) (0.8.4)\n",
      "Requirement already satisfied: entrypoints>=0.2.2 in /opt/conda/lib/python3.7/site-packages (from nbconvert<6,>=5.5.0->voila==0.1.24) (0.3)\n",
      "Requirement already satisfied: MarkupSafe>=0.23 in /opt/conda/lib/python3.7/site-packages (from jinja2->jupyter-server<0.2.0,>=0.1.0->voila==0.1.24) (2.0.1)\n",
      "Requirement already satisfied: jsonschema!=2.5.0,>=2.4 in /opt/conda/lib/python3.7/site-packages (from nbformat->jupyter-server<0.2.0,>=0.1.0->voila==0.1.24) (3.2.0)\n",
      "Requirement already satisfied: setuptools in /opt/conda/lib/python3.7/site-packages (from jsonschema!=2.5.0,>=2.4->nbformat->jupyter-server<0.2.0,>=0.1.0->voila==0.1.24) (58.0.4)\n",
      "Requirement already satisfied: attrs>=17.4.0 in /opt/conda/lib/python3.7/site-packages (from jsonschema!=2.5.0,>=2.4->nbformat->jupyter-server<0.2.0,>=0.1.0->voila==0.1.24) (21.2.0)\n",
      "Requirement already satisfied: importlib-metadata in /opt/conda/lib/python3.7/site-packages (from jsonschema!=2.5.0,>=2.4->nbformat->jupyter-server<0.2.0,>=0.1.0->voila==0.1.24) (4.8.2)\n",
      "Requirement already satisfied: pyrsistent>=0.14.0 in /opt/conda/lib/python3.7/site-packages (from jsonschema!=2.5.0,>=2.4->nbformat->jupyter-server<0.2.0,>=0.1.0->voila==0.1.24) (0.18.0)\n",
      "Requirement already satisfied: six>=1.11.0 in /opt/conda/lib/python3.7/site-packages (from jsonschema!=2.5.0,>=2.4->nbformat->jupyter-server<0.2.0,>=0.1.0->voila==0.1.24) (1.16.0)\n",
      "Requirement already satisfied: ptyprocess in /opt/conda/lib/python3.7/site-packages (from terminado>=0.8.1->jupyter-server<0.2.0,>=0.1.0->voila==0.1.24) (0.7.0)\n",
      "Requirement already satisfied: packaging in /opt/conda/lib/python3.7/site-packages (from bleach->nbconvert<6,>=5.5.0->voila==0.1.24) (21.2)\n",
      "Requirement already satisfied: webencodings in /opt/conda/lib/python3.7/site-packages (from bleach->nbconvert<6,>=5.5.0->voila==0.1.24) (0.5.1)\n"
     ]
    },
    {
     "name": "stdout",
     "output_type": "stream",
     "text": [
      "Requirement already satisfied: typing-extensions>=3.6.4 in /opt/conda/lib/python3.7/site-packages (from importlib-metadata->jsonschema!=2.5.0,>=2.4->nbformat->jupyter-server<0.2.0,>=0.1.0->voila==0.1.24) (3.10.0.2)\n",
      "Requirement already satisfied: zipp>=0.5 in /opt/conda/lib/python3.7/site-packages (from importlib-metadata->jsonschema!=2.5.0,>=2.4->nbformat->jupyter-server<0.2.0,>=0.1.0->voila==0.1.24) (3.6.0)\n",
      "Requirement already satisfied: matplotlib-inline<0.2.0,>=0.1.0 in /opt/conda/lib/python3.7/site-packages (from ipykernel->jupyter-server<0.2.0,>=0.1.0->voila==0.1.24) (0.1.2)\n",
      "Requirement already satisfied: argcomplete>=1.12.3 in /opt/conda/lib/python3.7/site-packages (from ipykernel->jupyter-server<0.2.0,>=0.1.0->voila==0.1.24) (1.12.3)\n",
      "Requirement already satisfied: debugpy<2.0,>=1.0.0 in /opt/conda/lib/python3.7/site-packages (from ipykernel->jupyter-server<0.2.0,>=0.1.0->voila==0.1.24) (1.5.1)\n",
      "Requirement already satisfied: ipython<8.0,>=7.23.1 in /opt/conda/lib/python3.7/site-packages (from ipykernel->jupyter-server<0.2.0,>=0.1.0->voila==0.1.24) (7.27.0)\n",
      "Requirement already satisfied: jedi>=0.16 in /opt/conda/lib/python3.7/site-packages (from ipython<8.0,>=7.23.1->ipykernel->jupyter-server<0.2.0,>=0.1.0->voila==0.1.24) (0.18.0)\n",
      "Requirement already satisfied: decorator in /opt/conda/lib/python3.7/site-packages (from ipython<8.0,>=7.23.1->ipykernel->jupyter-server<0.2.0,>=0.1.0->voila==0.1.24) (5.1.0)\n",
      "Requirement already satisfied: prompt-toolkit!=3.0.0,!=3.0.1,<3.1.0,>=2.0.0 in /opt/conda/lib/python3.7/site-packages (from ipython<8.0,>=7.23.1->ipykernel->jupyter-server<0.2.0,>=0.1.0->voila==0.1.24) (3.0.20)\n",
      "Requirement already satisfied: pickleshare in /opt/conda/lib/python3.7/site-packages (from ipython<8.0,>=7.23.1->ipykernel->jupyter-server<0.2.0,>=0.1.0->voila==0.1.24) (0.7.5)\n",
      "Requirement already satisfied: backcall in /opt/conda/lib/python3.7/site-packages (from ipython<8.0,>=7.23.1->ipykernel->jupyter-server<0.2.0,>=0.1.0->voila==0.1.24) (0.2.0)\n",
      "Requirement already satisfied: pexpect>4.3 in /opt/conda/lib/python3.7/site-packages (from ipython<8.0,>=7.23.1->ipykernel->jupyter-server<0.2.0,>=0.1.0->voila==0.1.24) (4.8.0)\n",
      "Requirement already satisfied: parso<0.9.0,>=0.8.0 in /opt/conda/lib/python3.7/site-packages (from jedi>=0.16->ipython<8.0,>=7.23.1->ipykernel->jupyter-server<0.2.0,>=0.1.0->voila==0.1.24) (0.8.2)\n",
      "Requirement already satisfied: wcwidth in /opt/conda/lib/python3.7/site-packages (from prompt-toolkit!=3.0.0,!=3.0.1,<3.1.0,>=2.0.0->ipython<8.0,>=7.23.1->ipykernel->jupyter-server<0.2.0,>=0.1.0->voila==0.1.24) (0.2.5)\n",
      "Requirement already satisfied: pyparsing<3,>=2.0.2 in /opt/conda/lib/python3.7/site-packages (from packaging->bleach->nbconvert<6,>=5.5.0->voila==0.1.24) (2.4.7)\n",
      "Installing collected packages: jupyterlab-pygments, jupyter-server, async-generator, voila\n",
      "Successfully installed async-generator-1.10 jupyter-server-0.1.1 jupyterlab-pygments-0.1.2 voila-0.1.24\n",
      "Requirement already satisfied: voila in /opt/conda/lib/python3.7/site-packages (0.1.24)\n",
      "Requirement already satisfied: nbconvert<6,>=5.5.0 in /opt/conda/lib/python3.7/site-packages (from voila) (5.6.1)\n",
      "Requirement already satisfied: async-generator in /opt/conda/lib/python3.7/site-packages (from voila) (1.10)\n",
      "Requirement already satisfied: jupyter-server<0.2.0,>=0.1.0 in /opt/conda/lib/python3.7/site-packages (from voila) (0.1.1)\n",
      "Requirement already satisfied: pygments<3,>=2.4.1 in /opt/conda/lib/python3.7/site-packages (from voila) (2.10.0)\n",
      "Requirement already satisfied: jupyterlab-pygments<0.2,>=0.1.0 in /opt/conda/lib/python3.7/site-packages (from voila) (0.1.2)\n",
      "Requirement already satisfied: ipython-genutils in /opt/conda/lib/python3.7/site-packages (from jupyter-server<0.2.0,>=0.1.0->voila) (0.2.0)\n",
      "Requirement already satisfied: jupyter-core>=4.4.0 in /opt/conda/lib/python3.7/site-packages (from jupyter-server<0.2.0,>=0.1.0->voila) (4.9.1)\n",
      "Requirement already satisfied: pyzmq>=17 in /opt/conda/lib/python3.7/site-packages (from jupyter-server<0.2.0,>=0.1.0->voila) (22.3.0)\n",
      "Requirement already satisfied: tornado>=4 in /opt/conda/lib/python3.7/site-packages (from jupyter-server<0.2.0,>=0.1.0->voila) (6.1)\n",
      "Requirement already satisfied: terminado>=0.8.1 in /opt/conda/lib/python3.7/site-packages (from jupyter-server<0.2.0,>=0.1.0->voila) (0.12.1)\n",
      "Requirement already satisfied: jinja2 in /opt/conda/lib/python3.7/site-packages (from jupyter-server<0.2.0,>=0.1.0->voila) (2.11.3)\n",
      "Requirement already satisfied: prometheus-client in /opt/conda/lib/python3.7/site-packages (from jupyter-server<0.2.0,>=0.1.0->voila) (0.12.0)\n",
      "Requirement already satisfied: ipykernel in /opt/conda/lib/python3.7/site-packages (from jupyter-server<0.2.0,>=0.1.0->voila) (6.5.0)\n",
      "Requirement already satisfied: traitlets>=4.2.1 in /opt/conda/lib/python3.7/site-packages (from jupyter-server<0.2.0,>=0.1.0->voila) (5.1.0)\n",
      "Requirement already satisfied: nbformat in /opt/conda/lib/python3.7/site-packages (from jupyter-server<0.2.0,>=0.1.0->voila) (5.1.3)\n",
      "Requirement already satisfied: jupyter-client>=5.3.1 in /opt/conda/lib/python3.7/site-packages (from jupyter-server<0.2.0,>=0.1.0->voila) (6.1.12)\n",
      "Requirement already satisfied: Send2Trash in /opt/conda/lib/python3.7/site-packages (from jupyter-server<0.2.0,>=0.1.0->voila) (1.8.0)\n",
      "Requirement already satisfied: python-dateutil>=2.1 in /opt/conda/lib/python3.7/site-packages (from jupyter-client>=5.3.1->jupyter-server<0.2.0,>=0.1.0->voila) (2.8.2)\n",
      "Requirement already satisfied: bleach in /opt/conda/lib/python3.7/site-packages (from nbconvert<6,>=5.5.0->voila) (4.1.0)\n",
      "Requirement already satisfied: entrypoints>=0.2.2 in /opt/conda/lib/python3.7/site-packages (from nbconvert<6,>=5.5.0->voila) (0.3)\n",
      "Requirement already satisfied: defusedxml in /opt/conda/lib/python3.7/site-packages (from nbconvert<6,>=5.5.0->voila) (0.7.1)\n",
      "Requirement already satisfied: testpath in /opt/conda/lib/python3.7/site-packages (from nbconvert<6,>=5.5.0->voila) (0.5.0)\n",
      "Requirement already satisfied: pandocfilters>=1.4.1 in /opt/conda/lib/python3.7/site-packages (from nbconvert<6,>=5.5.0->voila) (1.5.0)\n",
      "Requirement already satisfied: mistune<2,>=0.8.1 in /opt/conda/lib/python3.7/site-packages (from nbconvert<6,>=5.5.0->voila) (0.8.4)\n",
      "Requirement already satisfied: MarkupSafe>=0.23 in /opt/conda/lib/python3.7/site-packages (from jinja2->jupyter-server<0.2.0,>=0.1.0->voila) (2.0.1)\n",
      "Requirement already satisfied: jsonschema!=2.5.0,>=2.4 in /opt/conda/lib/python3.7/site-packages (from nbformat->jupyter-server<0.2.0,>=0.1.0->voila) (3.2.0)\n",
      "Requirement already satisfied: setuptools in /opt/conda/lib/python3.7/site-packages (from jsonschema!=2.5.0,>=2.4->nbformat->jupyter-server<0.2.0,>=0.1.0->voila) (58.0.4)\n",
      "Requirement already satisfied: six>=1.11.0 in /opt/conda/lib/python3.7/site-packages (from jsonschema!=2.5.0,>=2.4->nbformat->jupyter-server<0.2.0,>=0.1.0->voila) (1.16.0)\n",
      "Requirement already satisfied: importlib-metadata in /opt/conda/lib/python3.7/site-packages (from jsonschema!=2.5.0,>=2.4->nbformat->jupyter-server<0.2.0,>=0.1.0->voila) (4.8.2)\n",
      "Requirement already satisfied: pyrsistent>=0.14.0 in /opt/conda/lib/python3.7/site-packages (from jsonschema!=2.5.0,>=2.4->nbformat->jupyter-server<0.2.0,>=0.1.0->voila) (0.18.0)\n",
      "Requirement already satisfied: attrs>=17.4.0 in /opt/conda/lib/python3.7/site-packages (from jsonschema!=2.5.0,>=2.4->nbformat->jupyter-server<0.2.0,>=0.1.0->voila) (21.2.0)\n",
      "Requirement already satisfied: ptyprocess in /opt/conda/lib/python3.7/site-packages (from terminado>=0.8.1->jupyter-server<0.2.0,>=0.1.0->voila) (0.7.0)\n",
      "Requirement already satisfied: packaging in /opt/conda/lib/python3.7/site-packages (from bleach->nbconvert<6,>=5.5.0->voila) (21.2)\n",
      "Requirement already satisfied: webencodings in /opt/conda/lib/python3.7/site-packages (from bleach->nbconvert<6,>=5.5.0->voila) (0.5.1)\n",
      "Requirement already satisfied: typing-extensions>=3.6.4 in /opt/conda/lib/python3.7/site-packages (from importlib-metadata->jsonschema!=2.5.0,>=2.4->nbformat->jupyter-server<0.2.0,>=0.1.0->voila) (3.10.0.2)\n",
      "Requirement already satisfied: zipp>=0.5 in /opt/conda/lib/python3.7/site-packages (from importlib-metadata->jsonschema!=2.5.0,>=2.4->nbformat->jupyter-server<0.2.0,>=0.1.0->voila) (3.6.0)\n"
     ]
    },
    {
     "name": "stdout",
     "output_type": "stream",
     "text": [
      "Requirement already satisfied: debugpy<2.0,>=1.0.0 in /opt/conda/lib/python3.7/site-packages (from ipykernel->jupyter-server<0.2.0,>=0.1.0->voila) (1.5.1)\n",
      "Requirement already satisfied: matplotlib-inline<0.2.0,>=0.1.0 in /opt/conda/lib/python3.7/site-packages (from ipykernel->jupyter-server<0.2.0,>=0.1.0->voila) (0.1.2)\n",
      "Requirement already satisfied: argcomplete>=1.12.3 in /opt/conda/lib/python3.7/site-packages (from ipykernel->jupyter-server<0.2.0,>=0.1.0->voila) (1.12.3)\n",
      "Requirement already satisfied: ipython<8.0,>=7.23.1 in /opt/conda/lib/python3.7/site-packages (from ipykernel->jupyter-server<0.2.0,>=0.1.0->voila) (7.27.0)\n",
      "Requirement already satisfied: pexpect>4.3 in /opt/conda/lib/python3.7/site-packages (from ipython<8.0,>=7.23.1->ipykernel->jupyter-server<0.2.0,>=0.1.0->voila) (4.8.0)\n",
      "Requirement already satisfied: jedi>=0.16 in /opt/conda/lib/python3.7/site-packages (from ipython<8.0,>=7.23.1->ipykernel->jupyter-server<0.2.0,>=0.1.0->voila) (0.18.0)\n",
      "Requirement already satisfied: prompt-toolkit!=3.0.0,!=3.0.1,<3.1.0,>=2.0.0 in /opt/conda/lib/python3.7/site-packages (from ipython<8.0,>=7.23.1->ipykernel->jupyter-server<0.2.0,>=0.1.0->voila) (3.0.20)\n",
      "Requirement already satisfied: decorator in /opt/conda/lib/python3.7/site-packages (from ipython<8.0,>=7.23.1->ipykernel->jupyter-server<0.2.0,>=0.1.0->voila) (5.1.0)\n",
      "Requirement already satisfied: backcall in /opt/conda/lib/python3.7/site-packages (from ipython<8.0,>=7.23.1->ipykernel->jupyter-server<0.2.0,>=0.1.0->voila) (0.2.0)\n",
      "Requirement already satisfied: pickleshare in /opt/conda/lib/python3.7/site-packages (from ipython<8.0,>=7.23.1->ipykernel->jupyter-server<0.2.0,>=0.1.0->voila) (0.7.5)\n",
      "Requirement already satisfied: parso<0.9.0,>=0.8.0 in /opt/conda/lib/python3.7/site-packages (from jedi>=0.16->ipython<8.0,>=7.23.1->ipykernel->jupyter-server<0.2.0,>=0.1.0->voila) (0.8.2)\n",
      "Requirement already satisfied: wcwidth in /opt/conda/lib/python3.7/site-packages (from prompt-toolkit!=3.0.0,!=3.0.1,<3.1.0,>=2.0.0->ipython<8.0,>=7.23.1->ipykernel->jupyter-server<0.2.0,>=0.1.0->voila) (0.2.5)\n",
      "Requirement already satisfied: pyparsing<3,>=2.0.2 in /opt/conda/lib/python3.7/site-packages (from packaging->bleach->nbconvert<6,>=5.5.0->voila) (2.4.7)\n",
      "Enabling: voila\n",
      "- Writing config: /opt/conda/etc/jupyter\n",
      "    - Validating...\n",
      "      voila 0.1.24 \u001b[32mOK\u001b[0m\n",
      "usage: jupyter-server [-h] [--debug] [--show-config] [--show-config-json]\n",
      "                      [--generate-config] [-y] [--allow-root] [--script]\n",
      "                      [--no-script] [--log-level ServerApp.log_level]\n",
      "                      [--config ServerApp.config_file] [--ip ServerApp.ip]\n",
      "                      [--port ServerApp.port]\n",
      "                      [--port-retries ServerApp.port_retries]\n",
      "                      [--transport KernelManager.transport]\n",
      "                      [--keyfile ServerApp.keyfile]\n",
      "                      [--certfile ServerApp.certfile]\n",
      "                      [--client-ca ServerApp.client_ca]\n",
      "                      [--notebook-dir ServerApp.root_dir]\n",
      "                      [--browser ServerApp.browser] [--pylab ServerApp.pylab]\n",
      "                      [extra_args [extra_args ...]]\n",
      "jupyter-server: error: unrecognized arguments: --sys-prefix voila\n"
     ]
    }
   ],
   "source": [
    "!pip install \"nbconvert==5.6.1\"\n",
    "!pip install \"voila==0.1.24\"\n",
    "!pip install voila \n",
    "!jupyter serverextension enable --sys-prefix voila #### for binder servers\n",
    "!jupyter server extension enable --sys-prefix voila #### for jupyter servers"
   ]
  },
  {
   "cell_type": "code",
   "execution_count": 4,
   "id": "f33e7149",
   "metadata": {},
   "outputs": [],
   "source": [
    "path = Path()\n",
    "learn_inf = load_learner(path/'export.pkl', cpu=True)\n",
    "btn_upload = widgets.FileUpload()\n",
    "out_pl = widgets.Output()\n",
    "lbl_pred = widgets.Label()"
   ]
  },
  {
   "cell_type": "code",
   "execution_count": 5,
   "id": "923d3e16",
   "metadata": {},
   "outputs": [],
   "source": [
    "# test def on_click_classify(change):\n",
    "def on_click(change):\n",
    "    img = PILImage.create(btn_upload.data[-1])\n",
    "    out_pl.clear_output()\n",
    "    with out_pl: display(img.to_thumb(128,128))\n",
    "    pred,pred_idx,probs = learn_inf.predict(img)\n",
    "    lbl_pred.value = f'Predição: {pred}; Probabilidade: {probs[pred_idx]:.04f}'\n",
    "\n",
    "#btn_run.on_click(on_click_classify)\n"
   ]
  },
  {
   "cell_type": "code",
   "execution_count": 6,
   "id": "08bb8a09",
   "metadata": {},
   "outputs": [],
   "source": [
    "btn_upload.observe(on_click, names=['data'])"
   ]
  },
  {
   "cell_type": "code",
   "execution_count": 7,
   "id": "caf240c7",
   "metadata": {},
   "outputs": [
    {
     "data": {
      "application/vnd.jupyter.widget-view+json": {
       "model_id": "e0f2b0a7b24a4d5db6b2c251bed34040",
       "version_major": 2,
       "version_minor": 0
      },
      "text/plain": [
       "VBox(children=(Label(value='Selecione seu urso!'), FileUpload(value={}, description='Upload'), Output(), Label…"
      ]
     },
     "metadata": {},
     "output_type": "display_data"
    },
    {
     "data": {
      "text/html": [],
      "text/plain": [
       "<IPython.core.display.HTML object>"
      ]
     },
     "metadata": {},
     "output_type": "display_data"
    }
   ],
   "source": [
    "#hide_output\n",
    "display(VBox([widgets.Label('Selecione seu urso!'), \n",
    "      btn_upload, out_pl, lbl_pred]))\n",
    "#but_run"
   ]
  },
  {
   "cell_type": "code",
   "execution_count": null,
   "id": "f6562022",
   "metadata": {},
   "outputs": [],
   "source": []
  }
 ],
 "metadata": {
  "kernelspec": {
   "display_name": "Python 3 (ipykernel)",
   "language": "python",
   "name": "python3"
  },
  "language_info": {
   "codemirror_mode": {
    "name": "ipython",
    "version": 3
   },
   "file_extension": ".py",
   "mimetype": "text/x-python",
   "name": "python",
   "nbconvert_exporter": "python",
   "pygments_lexer": "ipython3",
   "version": "3.7.11"
  }
 },
 "nbformat": 4,
 "nbformat_minor": 5
}
